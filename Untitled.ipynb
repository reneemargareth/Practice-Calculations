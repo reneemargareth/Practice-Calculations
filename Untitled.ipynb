{
 "cells": [
  {
   "cell_type": "code",
   "execution_count": 6,
   "id": "c67cdb09-871f-41e0-9f3c-e825e0a837c9",
   "metadata": {},
   "outputs": [
    {
     "data": {
      "text/plain": [
       "'50kg'"
      ]
     },
     "execution_count": 6,
     "metadata": {},
     "output_type": "execute_result"
    }
   ],
   "source": [
    "def material_waste(total_material, material_units, num_jobs, job_consumption):\n",
    "    return f'{total_material - (num_jobs * job_consumption)}{material_units}'\n",
    "\n",
    "material_waste(100, \"kg\", 10, 5)"
   ]
  },
  {
   "cell_type": "code",
   "execution_count": 27,
   "id": "1437d269-8883-4d8c-8dfc-5c5c9497f154",
   "metadata": {},
   "outputs": [
    {
     "data": {
      "text/plain": [
       "19.0"
      ]
     },
     "execution_count": 27,
     "metadata": {},
     "output_type": "execute_result"
    }
   ],
   "source": [
    "def interest(principal, rate, periods):\n",
    "    return ((principal * (rate * periods)) + principal)//1\n",
    "\n",
    "interest(2.3, 2.5, 3)"
   ]
  },
  {
   "cell_type": "code",
   "execution_count": 21,
   "id": "63dfb60c-04c6-4378-89e1-78332aaa5b2d",
   "metadata": {},
   "outputs": [
    {
     "ename": "SyntaxError",
     "evalue": "invalid syntax (567146234.py, line 1)",
     "output_type": "error",
     "traceback": [
      "\u001b[0;36m  Input \u001b[0;32mIn [21]\u001b[0;36m\u001b[0m\n\u001b[0;31m    def body_mass_index(weight, height)\u001b[0m\n\u001b[0m                                       ^\u001b[0m\n\u001b[0;31mSyntaxError\u001b[0m\u001b[0;31m:\u001b[0m invalid syntax\n"
     ]
    }
   ],
   "source": [
    "def body_mass_index(weight, height)\n",
    "    return (weight/2.205) / (height[0]/3.28 + height[1]/39.37)**2\n",
    "\n",
    "body_mass_index(100, 10)"
   ]
  }
 ],
 "metadata": {
  "kernelspec": {
   "display_name": "Python 3 (ipykernel)",
   "language": "python",
   "name": "python3"
  },
  "language_info": {
   "codemirror_mode": {
    "name": "ipython",
    "version": 3
   },
   "file_extension": ".py",
   "mimetype": "text/x-python",
   "name": "python",
   "nbconvert_exporter": "python",
   "pygments_lexer": "ipython3",
   "version": "3.9.12"
  }
 },
 "nbformat": 4,
 "nbformat_minor": 5
}
